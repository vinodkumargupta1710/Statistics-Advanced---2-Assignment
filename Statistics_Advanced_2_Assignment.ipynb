{
  "nbformat": 4,
  "nbformat_minor": 0,
  "metadata": {
    "colab": {
      "provenance": []
    },
    "kernelspec": {
      "name": "python3",
      "display_name": "Python 3"
    },
    "language_info": {
      "name": "python"
    }
  },
  "cells": [
    {
      "cell_type": "markdown",
      "source": [
        "#Statistics Advanced - 2 Assignment Question :"
      ],
      "metadata": {
        "id": "avLYJK-fu8wx"
      }
    },
    {
      "cell_type": "markdown",
      "source": [
        "#Question 1 : What is hypothesis testing in statistics?\n",
        "**Answer** : Hypothesis Testing in Statistics :\n",
        "Hypothesis testing is a statistical technique used to make inferences about a population parameter based on a sample of data. It involves formulating a hypothesis about the population parameter and then testing it using sample data.\n",
        "\n",
        "Steps :\n",
        "\n",
        "1. Formulate a null hypothesis (H0): A statement of no effect or no difference.\n",
        "2. Formulate an alternative hypothesis (H1): A statement of an effect or difference.\n",
        "3. Collect sample data: Gather data from a sample of the population.\n",
        "4. Calculate a test statistic: Calculate a statistical measure that summarizes the sample data.\n",
        "5. Determine the p-value: Calculate the probability of observing the test statistic (or a more extreme value) assuming the null hypothesis is true.\n",
        "6. Make a decision: Based on the p-value, decide whether to reject the null hypothesis or fail to reject it.\n",
        "\n"
      ],
      "metadata": {
        "id": "ft4HyR67vFxb"
      }
    },
    {
      "cell_type": "markdown",
      "source": [
        "#Question 2 : What is the null hypothesis, and how does it differ from the alternative hypothesis?\n",
        "**Answer** : In hypothesis testing, two types of hypotheses are formulated:\n",
        "\n",
        "Null hypothesis (H0) : States that there is no significant difference or relationship.\n",
        "\n",
        "Alternative hypothesis (H1) : States that there is a significant difference or relationship.\n",
        "\n",
        "Example:\n",
        "\n",
        "- Null hypothesis (H0) : μ = 0 (The population mean is equal to 0.)\n",
        "\n",
        "- Alternative hypothesis (H1) : μ ≠ 0 (The population mean is not equal to 0.)\n",
        "\n"
      ],
      "metadata": {
        "id": "cJ9_HwJJvx5Q"
      }
    },
    {
      "cell_type": "markdown",
      "source": [
        "#Question 3 : Explain the significance level in hypothesis testing and its role in deciding the outcome of a test.\n",
        "**Answer** :\n",
        "\n",
        "Significance Level (α) in Hypothesis Testing :\n",
        "\n",
        "The significance level denoted by α (alpha), is a critical component of hypothesis testing. It represents the maximum probability of rejecting the null hypothesis when it is actually true.\n",
        "\n",
        "Role of Significance Level:\n",
        "\n",
        "- Determines the critical region : The significance level determines the critical region of the test, which is the area where the null hypothesis is rejected.\n",
        "\n",
        "- Controls Type I error : The significance level controls the probability of Type I error, which is the probability of rejecting the null hypothesis when it is actually true.\n",
        "\n",
        "\n"
      ],
      "metadata": {
        "id": "J-4cUSgNwmxt"
      }
    },
    {
      "cell_type": "markdown",
      "source": [
        "#Question 4 : What are Type I and Type II errors? Give examples of each.\n",
        "**Answer** : In hypothesis testing, two types of errors can occur:\n",
        "\n",
        "1. Type I Error : A Type I error occurs when a true null hypothesis (H0) is rejected.\n",
        "    - Example : Convicting an innocent person in a court of law.\n",
        "\n",
        "    - Probability : The probability of making a Type I error is denoted by α (alpha).\n",
        "\n",
        "2. Type II Error : A Type II error occurs when a false null hypothesis (H0) is not rejected.\n",
        "    - Example : Failing to convict a guilty person in a court of law.\n",
        "\n",
        "    - Probability : The probability of making a Type II error is denoted by β (beta).\n"
      ],
      "metadata": {
        "id": "1MYABKxRxhan"
      }
    },
    {
      "cell_type": "markdown",
      "source": [
        "#Question 5 : What is the difference between a Z-test and a T-test? Explain when to use each.\n",
        "**Answer** : The Z-test and T-test are statistical tests used to compare means, but they differ in their assumptions and applications.\n",
        "\n",
        "Z-Test :\n",
        "\n",
        "- Used for large sample sizes (typically ≥ 30)\n",
        "- Population standard deviation is known\n",
        "- Assumes normal distribution or approximately normal distribution\n",
        "- Calculates Z-score using population standard deviation\n",
        "\n",
        "T-Test :\n",
        "\n",
        "- Used for small sample sizes (typically < 30)\n",
        "- Population standard deviation is unknown\n",
        "- Assumes normal distribution or approximately normal distribution\n",
        "- Calculates T-score using sample standard deviation\n",
        "\n"
      ],
      "metadata": {
        "id": "AaVjKTc7yPgu"
      }
    },
    {
      "cell_type": "markdown",
      "source": [
        "#Question 6 : Write a Python program to generate a binomial distribution with n=10 and p=0.5, then plot its histogram.\n"
      ],
      "metadata": {
        "id": "ECfT_Awfy861"
      }
    },
    {
      "cell_type": "code",
      "execution_count": null,
      "metadata": {
        "colab": {
          "base_uri": "https://localhost:8080/",
          "height": 472
        },
        "id": "fB8WOzjXu3hP",
        "outputId": "24f71478-276d-458b-e3ff-2aa2c6defbf4"
      },
      "outputs": [
        {
          "output_type": "display_data",
          "data": {
            "text/plain": [
              "<Figure size 640x480 with 1 Axes>"
            ],
            "image/png": "[encoded data removed]"
          },
          "metadata": {}
        }
      ],
      "source": [
        "import numpy as np\n",
        "import matplotlib.pyplot as plt\n",
        "from scipy.stats import binom\n",
        "\n",
        "# Define parameters\n",
        "n = 10  # number of trials\n",
        "p = 0.5  # probability of success\n",
        "size = 1000  # sample size\n",
        "\n",
        "# Generate binomial distribution\n",
        "data = binom.rvs(n, p, size=size)\n",
        "\n",
        "# Plot histogram\n",
        "plt.hist(data, bins=11, edgecolor='black', align='left', rwidth=0.8)\n",
        "plt.xlabel('Number of Successes')\n",
        "plt.ylabel('Frequency')\n",
        "plt.title('Binomial Distribution (n=10, p=0.5)')\n",
        "plt.show()\n"
      ]
    },
    {
      "cell_type": "markdown",
      "source": [
        "#Question 7 : Implement hypothesis testing using Z-statistics for a sample dataset in Python. Show the Python code and interpret the results.\n",
        "\n",
        "sample_data = [49.1, 50.2, 51.0, 48.7, 50.5, 49.8, 50.3, 50.7, 50.2, 49.6,\n",
        "50.1, 49.9, 50.8, 50.4, 48.9, 50.6, 50.0, 49.7, 50.2, 49.5,\n",
        "50.1, 50.3, 50.4, 50.5, 50.0, 50.7, 49.3, 49.8, 50.2, 50.9,\n",
        "50.3, 50.4, 50.0, 49.7, 50.5, 49.9]"
      ],
      "metadata": {
        "id": "CKOQ7r1_zTrr"
      }
    },
    {
      "cell_type": "code",
      "source": [
        "import numpy as np\n",
        "from scipy import stats\n",
        "\n",
        "# Sample dataset\n",
        "sample_data = np.array([49.1, 50.2, 51.0, 48.7, 50.5, 49.8, 50.3, 50.7,\n",
        "                        50.2, 49.6, 50.1, 49.9, 50.8, 50.4, 48.9, 50.6,\n",
        "                        50.0, 49.7, 50.2, 49.5, 50.1, 50.3, 50.4, 50.5,\n",
        "                        50.0, 50.7, 49.3, 49.8, 50.2, 50.9, 50.3, 50.4,\n",
        "                        50.0, 49.7, 50.5, 49.9])\n",
        "\n",
        "# Define parameters\n",
        "population_mean = 50  # known population mean\n",
        "population_std = 1  # known population standard deviation\n",
        "alpha = 0.05  # significance level\n",
        "\n",
        "# Calculate sample mean and standard error\n",
        "sample_mean = np.mean(sample_data)\n",
        "standard_error = population_std / np.sqrt(len(sample_data))\n",
        "\n",
        "# Calculate Z-score\n",
        "z_score = (sample_mean - population_mean) / standard_error\n",
        "\n",
        "# Calculate p-value\n",
        "p_value = 2 * (1 - stats.norm.cdf(abs(z_score)))\n",
        "\n",
        "# Print results\n",
        "print(f\"Sample Mean: {sample_mean:.4f}\")\n",
        "print(f\"Z-score: {z_score:.4f}\")\n",
        "print(f\"P-value: {p_value:.4f}\")\n",
        "\n",
        "# Interpret results\n",
        "if p_value < alpha:\n",
        "    print(\"Reject the null hypothesis. The sample mean is significantly different from the population mean.\")\n",
        "else:\n",
        "    print(\"Fail to reject the null hypothesis. The sample mean is not significantly different from the population mean.\")\n"
      ],
      "metadata": {
        "colab": {
          "base_uri": "https://localhost:8080/"
        },
        "id": "pyurhPJvy1oe",
        "outputId": "2c5c11a8-1843-4959-fe99-3c4a7547f27d"
      },
      "execution_count": null,
      "outputs": [
        {
          "output_type": "stream",
          "name": "stdout",
          "text": [
            "Sample Mean: 50.0889\n",
            "Z-score: 0.5333\n",
            "P-value: 0.5938\n",
            "Fail to reject the null hypothesis. The sample mean is not significantly different from the population mean.\n"
          ]
        }
      ]
    },
    {
      "cell_type": "markdown",
      "source": [
        "#Question 8 : Write a Python script to simulate data from a normal distribution and calculate the 95% confidence interval for its mean. Plot the data using Matplotlib."
      ],
      "metadata": {
        "id": "SQNX_MMP0Pu9"
      }
    },
    {
      "cell_type": "code",
      "source": [
        "import numpy as np\n",
        "import matplotlib.pyplot as plt\n",
        "from scipy import stats\n",
        "\n",
        "# Simulate data\n",
        "np.random.seed(0)\n",
        "data = np.random.normal(5, 2, 100)\n",
        "\n",
        "# Calculate 95% CI\n",
        "mean = np.mean(data)\n",
        "std_err = stats.sem(data)\n",
        "ci = stats.t.interval(0.95, len(data)-1, loc=mean, scale=std_err)\n",
        "\n",
        "# Print results\n",
        "print(f\"Mean: {mean:.4f}\")\n",
        "print(f\"95% CI: ({ci[0]:.4f}, {ci[1]:.4f})\")\n",
        "\n",
        "# Plot histogram\n",
        "plt.hist(data, bins=20, edgecolor='black')\n",
        "plt.axvline(mean, color='red')\n",
        "plt.axvline(ci[0], color='green', linestyle='--')\n",
        "plt.axvline(ci[1], color='green', linestyle='--')\n",
        "plt.show()"
      ],
      "metadata": {
        "colab": {
          "base_uri": "https://localhost:8080/",
          "height": 465
        },
        "id": "ebi6YZTY0Ett",
        "outputId": "04b7087b-4e4a-4d1b-b33c-db1a2b039960"
      },
      "execution_count": null,
      "outputs": [
        {
          "output_type": "stream",
          "name": "stdout",
          "text": [
            "Mean: 5.1196\n",
            "95% CI: (4.7176, 5.5216)\n"
          ]
        },
        {
          "output_type": "display_data",
          "data": {
            "text/plain": [
              "<Figure size 640x480 with 1 Axes>"
            ],
            "image/png": "[encoded data removed]"
          },
          "metadata": {}
        }
      ]
    },
    {
      "cell_type": "markdown",
      "source": [
        "#Question 9: Write a Python function to calculate the Z-scores from a dataset and visualize the standardized data using a histogram. Explain what the Z-scores represent in terms of standard deviations from the mean.\n"
      ],
      "metadata": {
        "id": "L_nfW3oe1_z-"
      }
    },
    {
      "cell_type": "code",
      "source": [
        "import numpy as np\n",
        "import matplotlib.pyplot as plt\n",
        "\n",
        "# Simulate data\n",
        "data = np.random.normal(5, 2, 1000)\n",
        "\n",
        "# Calculate Z-scores\n",
        "z_scores = (data - np.mean(data)) / np.std(data)\n",
        "\n",
        "# Plot histograms\n",
        "plt.figure(figsize=(12, 6))\n",
        "plt.subplot(1, 2, 1)\n",
        "plt.hist(data, bins=20, edgecolor='black')\n",
        "plt.title('Original Data')\n",
        "\n",
        "plt.subplot(1, 2, 2)\n",
        "plt.hist(z_scores, bins=20, edgecolor='black')\n",
        "plt.title('Z-scores')\n",
        "plt.show()"
      ],
      "metadata": {
        "colab": {
          "base_uri": "https://localhost:8080/",
          "height": 545
        },
        "id": "aC8dy5mv0zj8",
        "outputId": "2b7b6a1b-77ed-4553-f2ee-f8e90ca95158"
      },
      "execution_count": null,
      "outputs": [
        {
          "output_type": "display_data",
          "data": {
            "text/plain": [
              "<Figure size 1200x600 with 2 Axes>"
            ],
            "image/png": "[encoded data removed]"
          },
          "metadata": {}
        }
      ]
    },
    {
      "cell_type": "code",
      "source": [],
      "metadata": {
        "id": "ut5cK81z2miK"
      },
      "execution_count": null,
      "outputs": []
    }
  ]
}